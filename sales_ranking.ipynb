{
 "cells": [
  {
   "cell_type": "code",
   "execution_count": 0,
   "metadata": {
    "application/vnd.databricks.v1+cell": {
     "cellMetadata": {
      "byteLimit": 2048000,
      "implicitDf": true,
      "rowLimit": 10000
     },
     "inputWidgets": {},
     "nuid": "b41b50ee-0360-460f-a29b-71994ea93f8d",
     "showTitle": false,
     "tableResultSettingsMap": {},
     "title": ""
    }
   },
   "outputs": [
    {
     "output_type": "display_data",
     "data": {
      "text/html": [
       "<style scoped>\n",
       "  .table-result-container {\n",
       "    max-height: 300px;\n",
       "    overflow: auto;\n",
       "  }\n",
       "  table, th, td {\n",
       "    border: 1px solid black;\n",
       "    border-collapse: collapse;\n",
       "  }\n",
       "  th, td {\n",
       "    padding: 5px;\n",
       "  }\n",
       "  th {\n",
       "    text-align: left;\n",
       "  }\n",
       "</style><div class='table-result-container'><table class='table-result'><thead style='background-color: white'><tr><th>name</th><th>Year</th><th>Month</th><th>Total</th></tr></thead><tbody><tr><td>Shawna</td><td>2021</td><td>12</td><td>577.2100</td></tr></tbody></table></div>"
      ]
     },
     "metadata": {
      "application/vnd.databricks.v1+output": {
       "addedWidgets": {},
       "aggData": [],
       "aggError": "",
       "aggOverflow": false,
       "aggSchema": [],
       "aggSeriesLimitReached": false,
       "aggType": "",
       "arguments": {},
       "columnCustomDisplayInfos": {},
       "data": [
        [
         "Shawna",
         2021,
         12,
         "577.2100"
        ]
       ],
       "datasetInfos": [],
       "dbfsResultPath": null,
       "isJsonSchema": true,
       "metadata": {},
       "overflow": false,
       "plotOptions": {
        "customPlotOptions": {},
        "displayType": "table",
        "pivotAggregation": null,
        "pivotColumns": null,
        "xColumns": null,
        "yColumns": null
       },
       "removedWidgets": [],
       "schema": [
        {
         "metadata": "{\"__CHAR_VARCHAR_TYPE_STRING\":\"varchar(255)\"}",
         "name": "name",
         "type": "\"string\""
        },
        {
         "metadata": "{}",
         "name": "Year",
         "type": "\"integer\""
        },
        {
         "metadata": "{}",
         "name": "Month",
         "type": "\"integer\""
        },
        {
         "metadata": "{}",
         "name": "Total",
         "type": "\"decimal(30,4)\""
        }
       ],
       "type": "table"
      }
     },
     "output_type": "display_data"
    }
   ],
   "source": [
    "%sql\n",
    "-- CREATE TABLE Salespersons (\n",
    "--   id INT,\n",
    "--   name VARCHAR(255)\n",
    "-- );\n",
    "\n",
    "-- CREATE TABLE Sales (\n",
    "--   id INT,\n",
    "--   salesperson_id INT,\n",
    "--   amount DECIMAL(20,4),\n",
    "--   created_at DATE\n",
    "-- );\n",
    "\n",
    "-- INSERT INTO Salespersons VALUES (1, 'Becca'), (2, 'Jade'), (3, 'Shawna'), (4, 'Priya');\n",
    "-- INSERT INTO Sales VALUES\n",
    "-- (1, 1, 55.72, '2021-01-22'),\n",
    "-- (2, 2, 133.48, '2021-01-12'),\n",
    "-- (3, 3, 533.63, '2021-12-12'),\n",
    "-- (4, 1, 33.78, '2021-01-12'),\n",
    "-- (5, 1, 31.58, '2021-02-02'),\n",
    "-- (6, 3, 43.58, '2021-05-13'),\n",
    "-- (7, 2, 43.58, '2021-07-11'),\n",
    "-- (8, 3, 43.58, '2021-12-13'),\n",
    "-- (9, 1, 43.58, '2022-09-17'),\n",
    "-- (10, 3, 43.58, '2021-05-13'),\n",
    "-- (11, 3, 436.52, '2022-02-13'),\n",
    "-- (12, 4, 533.64, '2021-12-12'),\n",
    "-- (13, 3, 500.00, '2019-12-13');\n",
    "\n",
    "\n",
    "-- Write a query that returns the name of the salesperson\n",
    "-- who had the highest sales total in any single month, the year and \n",
    "-- the month when the record occurred, and the total in sales that person landed for that month.\n",
    "\n",
    "\n",
    "\n",
    "\n",
    "\n",
    "\n",
    "WITH MonthlySales AS (\n",
    "    SELECT \n",
    "       s.salesperson_id,\n",
    "\t   extract(YEAR from s.created_at) as SALES_YEAR,\n",
    "\t   extract(Month from s.created_at) as Sales_Month,\n",
    "\t   SUM(s.amount) AS total_sales\n",
    "\t\t FROM Sales s\n",
    "    GROUP BY s.salesperson_id, \n",
    "\tEXTRACT(YEAR FROM s.created_at),\n",
    "\tEXTRACT(MONTH FROM s.created_at)   \n",
    "),\n",
    "\n",
    "RankedSales as (\n",
    "select \n",
    "\tsalesperson_id,\n",
    "\tSALES_YEAR,\n",
    "\tSALES_MONTH\t,\n",
    "\ttotal_sales\t,\n",
    "\tRANK() OVER( order by total_sales  desc ) as \n",
    "\tsales_rank from MonthlySales\n",
    "\n",
    ")\n",
    "\n",
    "select   b.name,\n",
    "    a.SALES_YEAR AS Year,\n",
    "    a.SALES_MONTH AS Month,\n",
    "    a.total_sales AS Total from \n",
    "RankedSales a join Salespersons b\n",
    "on a.salesperson_id = b.id where a.sales_rank=1;\n",
    "\n"
   ]
  }
 ],
 "metadata": {
  "application/vnd.databricks.v1+notebook": {
   "computePreferences": null,
   "dashboards": [],
   "environmentMetadata": {
    "base_environment": "",
    "client": "1"
   },
   "language": "python",
   "notebookMetadata": {
    "mostRecentlyExecutedCommandWithImplicitDF": {
     "commandId": 2457127966121548,
     "dataframes": [
      "_sqldf"
     ]
    },
    "pythonIndentUnit": 4
   },
   "notebookName": "sales_ranking",
   "widgets": {}
  }
 },
 "nbformat": 4,
 "nbformat_minor": 0
}
